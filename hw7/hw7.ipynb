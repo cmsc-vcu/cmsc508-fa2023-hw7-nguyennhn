{
  "cells": [
    {
      "cell_type": "raw",
      "metadata": {},
      "source": [
        "---\n",
        "title: Homework 7 - Creating a resume database\n",
        "author: Nguyen-Huy Nguyen\n",
        "date: 11-12-2023\n",
        "format:\n",
        "    html:\n",
        "        theme: cosmo\n",
        "        toc: true\n",
        "        embed-resources: true\n",
        "        code-copy: true\n",
        "---"
      ],
      "id": "6dec308a"
    },
    {
      "cell_type": "markdown",
      "metadata": {},
      "source": [
        "(include a brief description of what is in this document)\n",
        "\n",
        "(Please clean up any comments that I included.  This is a scaffold document.)\n",
        "\n",
        "GITHUB URL:  <https://github.com/cmsc-vcu/cmsc508-fa2023-hw7-nguyennhn>\n"
      ],
      "id": "442ecb9a"
    },
    {
      "cell_type": "code",
      "metadata": {},
      "source": [
        "#| eval: true\n",
        "#| echo: false\n",
        "import os\n",
        "import sys\n",
        "import pandas as pd\n",
        "from tabulate import tabulate\n",
        "from dotenv import load_dotenv\n",
        "from sqlalchemy import create_engine, text\n",
        "from sqlalchemy.exc import OperationalError, ProgrammingError\n",
        "from IPython.display import display, Markdown"
      ],
      "id": "77f80dd0",
      "execution_count": null,
      "outputs": []
    },
    {
      "cell_type": "code",
      "metadata": {},
      "source": [
        "#| eval: true\n",
        "#| echo: false\n",
        "\n",
        "# modify config_map to reflect credentials needed by this program\n",
        "config_map = {\n",
        "    'user':'CMSC508_USER',\n",
        "    'password':'CMSC508_PASSWORD',\n",
        "    'host':'CMSC508_HOST',\n",
        "    'database':'HW7_DB_NAME'\n",
        "}\n",
        "# load and store credentials\n",
        "load_dotenv()\n",
        "config = {}\n",
        "for key in config_map.keys():\n",
        "    config[key] = os.getenv(config_map[key])\n",
        "flag = False\n",
        "for param in config.keys():\n",
        "    if config[param] is None:\n",
        "        flag = True\n",
        "        print(f\"Missing {config_map[param]} in .env file\")\n",
        "#if flag:\n",
        "#    sys.exit(1)"
      ],
      "id": "37501ac5",
      "execution_count": null,
      "outputs": []
    },
    {
      "cell_type": "code",
      "metadata": {},
      "source": [
        "#| eval: true\n",
        "#| echo: false\n",
        "\n",
        "# build a sqlalchemy engine string\n",
        "engine_uri = f\"mysql+pymysql://{config['user']}:{config['password']}@{config['host']}/{config['database']}\"\n",
        "\n",
        "# create a database connection.  THIS IS THE ACTUAL CONNECTION!\n",
        "try:\n",
        "    cnx = create_engine(engine_uri)\n",
        "except ArgumentError as e:\n",
        "    print(f\"create_engine: Argument Error: {e}\")\n",
        "    #sys.exit(1)\n",
        "except NoSuchModuleError as e:\n",
        "    print(f\"create_engine: No Such Module Error: {e}\")\n",
        "    #sys.exit(1)\n",
        "except Exception as e:\n",
        "    print(f\"create_engine: An error occurred: {e}\")\n",
        "    #sys.exit(1)"
      ],
      "id": "70706251",
      "execution_count": null,
      "outputs": []
    },
    {
      "cell_type": "code",
      "metadata": {},
      "source": [
        "#| echo: false\n",
        "#| eval: true\n",
        "\n",
        "# Do a quick test of the connection and trap the errors better!\n",
        "try:\n",
        "    databases = pd.read_sql(\"show databases\",cnx)\n",
        "except ImportError as e:\n",
        "    print(f\"Error: {e}\")\n",
        "except OperationalError as e:\n",
        "    print(f\"Database/SQL Error:\\n{str(e)}\\n\")\n",
        "except ProgrammingError as e:\n",
        "    print(f\"Programming Error:\\n{str(e)}\\n\")\n",
        "except Exception as e:\n",
        "    print(f\"An error occurred:\\n{str(e)}\\n\")"
      ],
      "id": "c9d33a7c",
      "execution_count": null,
      "outputs": []
    },
    {
      "cell_type": "markdown",
      "metadata": {},
      "source": [
        "## Overview and description\n",
        "\n",
        "(briefly describe the project and the database)\n",
        "\n",
        "## Crows-foot diagram\n",
        "\n",
        "(add a description of the diagram and what the reader is seeing.)\n",
        "\n",
        "\n",
        "```{mermaid}\n",
        "%%| echo: false\n",
        "erDiagram\n",
        "    CUSTOMER ||--o{ ORDER : places\n",
        "    CUSTOMER }|..|{ DELIVERY-ADDRESS : uses\n",
        "    CUSTOMER{\n",
        "        int id\n",
        "        string first_name\n",
        "        string last_name\n",
        "    }\n",
        "    DELIVERY-ADDRESS {\n",
        "        int id\n",
        "    }\n",
        "```\n",
        "\n",
        "\n",
        "## Examples of data in the database\n",
        "\n",
        "For the people, skills, and roles tables, provide a description of each table and it's contents. Then provide a listing of the entire table.\n",
        "\n",
        "### People table\n",
        "\n",
        "The *people* table contains elements that describe ... \n",
        "\n",
        "Below is a list of data in the *people* table.\n"
      ],
      "id": "2b918022"
    },
    {
      "cell_type": "code",
      "metadata": {},
      "source": [
        "#| echo: false\n",
        "#| eval: true\n",
        "sql = f\"\"\"\n",
        "select * from people;\n",
        "\"\"\"\n",
        "## Add code to list roles table here\n",
        "try:\n",
        "    df = pd.read_sql(sql,cnx)\n",
        "    df\n",
        "except Exception as e:\n",
        "    message = str(e)\n",
        "    print(f\"An error occurred:\\n\\n{message}\\n\\nIgnoring and moving on.\")\n",
        "    df = pd.DataFrame()\n",
        "df"
      ],
      "id": "2c4e40a9",
      "execution_count": null,
      "outputs": []
    },
    {
      "cell_type": "markdown",
      "metadata": {},
      "source": [
        "### Skills table\n",
        "\n",
        "The *skills* table contains elements that describe ... \n",
        "\n",
        "Below is a list of data in the *skills* table.\n"
      ],
      "id": "86ea39de"
    },
    {
      "cell_type": "code",
      "metadata": {},
      "source": [
        "#| echo: false\n",
        "#| eval: true\n",
        "\n",
        "## Add code to list roles table here"
      ],
      "id": "3435ee26",
      "execution_count": null,
      "outputs": []
    },
    {
      "cell_type": "markdown",
      "metadata": {},
      "source": [
        "### Roles table\n",
        "\n",
        "The *roles* table contains elements that describe ... \n",
        "\n",
        "Below is a list of data in the *roles* table.\n"
      ],
      "id": "7af55c7c"
    },
    {
      "cell_type": "code",
      "metadata": {},
      "source": [
        "#| echo: false\n",
        "#| eval: true\n",
        "\n",
        "## Add code to list roles table here"
      ],
      "id": "68d30413",
      "execution_count": null,
      "outputs": []
    },
    {
      "cell_type": "markdown",
      "metadata": {},
      "source": [
        "## Sample queries\n",
        "\n",
        "Let's explore the database!\n",
        "\n",
        "# List skill names, tags, and descriptions ordered by name\n",
        "\n",
        "(here a sample query)\n"
      ],
      "id": "00ee94ff"
    },
    {
      "cell_type": "code",
      "metadata": {},
      "source": [
        "sql = f\"\"\"\n",
        "select * from people\n",
        "\"\"\""
      ],
      "id": "e05d26e4",
      "execution_count": null,
      "outputs": []
    },
    {
      "cell_type": "markdown",
      "metadata": {},
      "source": [
        "(and here is a sample result from the query)\n"
      ],
      "id": "45f740ec"
    },
    {
      "cell_type": "code",
      "metadata": {},
      "source": [
        "#| echo: false\n",
        "#| eval: true\n",
        "try:\n",
        "    df = pd.read_sql(sql,cnx)\n",
        "    df\n",
        "except Exception as e:\n",
        "    message = str(e)\n",
        "    print(f\"An error occurred:\\n\\n{message}\\n\\nIgnoring and moving on.\")\n",
        "    df = pd.DataFrame()\n",
        "df"
      ],
      "id": "719a2730",
      "execution_count": null,
      "outputs": []
    },
    {
      "cell_type": "markdown",
      "metadata": {},
      "source": [
        "### List people names and email addresses ordered by last_name\n",
        "\n",
        "\n",
        "### List skill names of Person 1\n",
        "\n",
        "\n",
        "### List people names with Skill 6\n",
        "\n",
        "\n",
        "### List people with a DEVELOPER role\n",
        "\n",
        "\n",
        "### List names and email addresses of people without skills\n",
        "\n",
        "\n",
        "### List names and tags of unused skills\n",
        "\n",
        "\n",
        "### List people names and skill names with the BOSS role\n",
        "\n",
        "\n",
        "### List ids and names of unused roles\n",
        "\n",
        "\n",
        "## Reflection\n",
        "\n",
        "(Write a paragraph expressing your thoughts, feelings, and insights about your experience with this assignment.  Pause and breath before writing - I'm trying to encourage critical thinking and self-awareness while allowing you to explore the connections between theory and practice. And yes, delete this paragraph.)\n"
      ],
      "id": "adae3609"
    }
  ],
  "metadata": {
    "kernelspec": {
      "name": "python3",
      "language": "python",
      "display_name": "Python 3 (ipykernel)"
    }
  },
  "nbformat": 4,
  "nbformat_minor": 5
}